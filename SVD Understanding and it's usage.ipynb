{
 "cells": [
  {
   "cell_type": "code",
   "execution_count": 60,
   "metadata": {
    "collapsed": true
   },
   "outputs": [],
   "source": [
    "#Calculation and understanding of SVD. most PCA is mostly covariance A = (AT.A/n-1)\n",
    "#when the number of features are more than the number of samples PCA turns singular and thus becomes noninvertible\n",
    "#secondly instead of calculating the variance for all the features and calculating the eigen vectors, it is calculated on reduced features"
   ]
  },
  {
   "cell_type": "code",
   "execution_count": 2,
   "metadata": {
    "collapsed": true
   },
   "outputs": [],
   "source": [
    "import numpy as np"
   ]
  },
  {
   "cell_type": "code",
   "execution_count": 13,
   "metadata": {
    "collapsed": true
   },
   "outputs": [],
   "source": [
    "def find_nice_A(shortcut=False, lim=1000000):\n",
    "    \"\"\" \n",
    "    find a 'nice' original array A, such that the eigenvalues\n",
    "    of U and V are integers.\n",
    "    (require discriminant of the determinant characteristic eqn\n",
    "        to be +positive perfect square)\n",
    "    \"\"\"\n",
    "    if shortcut:\n",
    "        A = np.array([[5, 0, 2, 4]\n",
    "                     ,[2, 6, 1, 2]])\n",
    "    else:\n",
    "        A = np.random.randint(0,9,(2,4))\n",
    "    \n",
    "    roots = set(np.arange(50))\n",
    "\n",
    "    for i in range(lim):\n",
    "        U = A @ A.T\n",
    "\n",
    "        a = 1\n",
    "        b = - U[0,0] - U[1,1]\n",
    "        c = (U[0,0] * U[1,1]) - (U[0,1] * U[1,0])\n",
    "\n",
    "        if np.sqrt((b**2) - (4*a*c)) in roots:\n",
    "            \n",
    "            V = A.T @ A\n",
    "\n",
    "            a = 1\n",
    "            b = - V[0,0] - V[1,1]\n",
    "            c = (V[0,0] * V[1,1]) - (V[0,1] * V[1,0])\n",
    "\n",
    "            if np.sqrt((b**2) - (4*a*c)) in roots:\n",
    "                \n",
    "                if (np.sum(A==0) == 1) & (np.sum(A[0,:] - A[1,:]) == 0):\n",
    "                \n",
    "                    return A, i\n",
    "    \n",
    "        A = np.random.randint(0,9,(2,4))       \n",
    "\n",
    "    return 'not found', lim"
   ]
  },
  {
   "cell_type": "code",
   "execution_count": 19,
   "metadata": {
    "collapsed": true
   },
   "outputs": [],
   "source": [
    "A,i = find_nice_A(shortcut=True)"
   ]
  },
  {
   "cell_type": "code",
   "execution_count": 31,
   "metadata": {
    "collapsed": false
   },
   "outputs": [],
   "source": [
    "AAT = A@A.T\n",
    "ATA = A.T@A"
   ]
  },
  {
   "cell_type": "code",
   "execution_count": 45,
   "metadata": {
    "collapsed": false
   },
   "outputs": [
    {
     "data": {
      "text/plain": [
       "(4, 4)"
      ]
     },
     "execution_count": 45,
     "metadata": {},
     "output_type": "execute_result"
    }
   ],
   "source": [
    "lmbU,U=np.linalg.eig(AAT)\n",
    "lmbV,V=np.linalg.eig(ATA)\n",
    "np.shape(V)\n",
    "#the eigen values are calculated and found to be the same."
   ]
  },
  {
   "cell_type": "code",
   "execution_count": 56,
   "metadata": {
    "collapsed": false
   },
   "outputs": [
    {
     "data": {
      "text/plain": [
       "array([[ 8.06225775,  0.        ,  0.        ,  0.        ],\n",
       "       [ 0.        ,  5.        ,  0.        ,  0.        ]])"
      ]
     },
     "execution_count": 56,
     "metadata": {},
     "output_type": "execute_result"
    }
   ],
   "source": [
    "#A = U.S.VT we are decomposing the matrix into several matrices \n",
    "\n",
    "#Calculating S out of it\n",
    "\n",
    "S= np.sqrt(np.diag(lmbV))[:2,:]\n",
    "S"
   ]
  },
  {
   "cell_type": "code",
   "execution_count": 49,
   "metadata": {
    "collapsed": false
   },
   "outputs": [],
   "source": [
    "A1=U@S@V.T\n"
   ]
  },
  {
   "cell_type": "code",
   "execution_count": 58,
   "metadata": {
    "collapsed": false
   },
   "outputs": [
    {
     "data": {
      "text/plain": [
       "array([[ 5.,  0.,  2.,  4.],\n",
       "       [ 2.,  6.,  1.,  2.]])"
      ]
     },
     "execution_count": 58,
     "metadata": {},
     "output_type": "execute_result"
    }
   ],
   "source": [
    "-A1.round()"
   ]
  },
  {
   "cell_type": "code",
   "execution_count": 57,
   "metadata": {
    "collapsed": false
   },
   "outputs": [
    {
     "data": {
      "text/plain": [
       "array([[5, 0, 2, 4],\n",
       "       [2, 6, 1, 2]])"
      ]
     },
     "execution_count": 57,
     "metadata": {},
     "output_type": "execute_result"
    }
   ],
   "source": [
    "A"
   ]
  },
  {
   "cell_type": "code",
   "execution_count": 59,
   "metadata": {
    "collapsed": true
   },
   "outputs": [],
   "source": [
    "#The negative sign is due to the factor that eigen values are not stable and changes in sign\n",
    "#http://blog.applied.ai/feature-reduction-using-svd/"
   ]
  },
  {
   "cell_type": "code",
   "execution_count": null,
   "metadata": {
    "collapsed": true
   },
   "outputs": [],
   "source": []
  }
 ],
 "metadata": {
  "kernelspec": {
   "display_name": "Python [default]",
   "language": "python",
   "name": "python3"
  },
  "language_info": {
   "codemirror_mode": {
    "name": "ipython",
    "version": 3
   },
   "file_extension": ".py",
   "mimetype": "text/x-python",
   "name": "python",
   "nbconvert_exporter": "python",
   "pygments_lexer": "ipython3",
   "version": "3.5.2"
  }
 },
 "nbformat": 4,
 "nbformat_minor": 2
}
